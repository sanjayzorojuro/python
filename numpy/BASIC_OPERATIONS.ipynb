{
 "cells": [
  {
   "cell_type": "markdown",
   "id": "733d912e-c84c-4bc5-a75b-83b2711d1bb0",
   "metadata": {},
   "source": [
    "# SOME BASIC OPERATIONS OF NUMPY\n"
   ]
  },
  {
   "cell_type": "code",
   "execution_count": 1,
   "id": "09064a33-e1d2-416d-8957-6cb48481b2e0",
   "metadata": {},
   "outputs": [],
   "source": [
    "import numpy as np"
   ]
  },
  {
   "cell_type": "code",
   "execution_count": 2,
   "id": "32a02065-c3a4-4a8d-adb7-db2d9ddd8c09",
   "metadata": {},
   "outputs": [
    {
     "name": "stdout",
     "output_type": "stream",
     "text": [
      "[1 2 3 4]\n"
     ]
    }
   ],
   "source": [
    "a = np.array([1,2,3,4])\n",
    "print(a)"
   ]
  },
  {
   "cell_type": "code",
   "execution_count": 3,
   "id": "555196f5-8d20-4e77-afc2-d7495a40959b",
   "metadata": {},
   "outputs": [
    {
     "name": "stdout",
     "output_type": "stream",
     "text": [
      "[[1 2 3 4]\n",
      " [5 6 7 8]]\n"
     ]
    }
   ],
   "source": [
    "b = np.array([[1,2,3,4],[5,6,7,8]])\n",
    "print(b)"
   ]
  },
  {
   "cell_type": "markdown",
   "id": "a3ff5bc4-76fa-43fc-81b1-d898a2e43f60",
   "metadata": {},
   "source": [
    "**DIMENTIONS OF THE ARRAY**\n"
   ]
  },
  {
   "cell_type": "code",
   "execution_count": 4,
   "id": "e27591af-352e-4a19-b50f-de59522c6412",
   "metadata": {},
   "outputs": [
    {
     "data": {
      "text/plain": [
       "1"
      ]
     },
     "execution_count": 4,
     "metadata": {},
     "output_type": "execute_result"
    }
   ],
   "source": [
    "a.ndim"
   ]
  },
  {
   "cell_type": "code",
   "execution_count": 5,
   "id": "5f95a784-07ff-48a4-8c95-3cbec82e2cd7",
   "metadata": {},
   "outputs": [
    {
     "data": {
      "text/plain": [
       "2"
      ]
     },
     "execution_count": 5,
     "metadata": {},
     "output_type": "execute_result"
    }
   ],
   "source": [
    "b.ndim"
   ]
  },
  {
   "cell_type": "markdown",
   "id": "2b974ea2-f7a1-4844-9eea-d8c8b7fb7bfa",
   "metadata": {},
   "source": [
    "**SHAPE OF THE ARRAY**\n"
   ]
  },
  {
   "cell_type": "code",
   "execution_count": 6,
   "id": "d8badc27-dc30-4dc5-8838-e16c6897d437",
   "metadata": {},
   "outputs": [
    {
     "data": {
      "text/plain": [
       "(4,)"
      ]
     },
     "execution_count": 6,
     "metadata": {},
     "output_type": "execute_result"
    }
   ],
   "source": [
    "a.shape"
   ]
  },
  {
   "cell_type": "code",
   "execution_count": 7,
   "id": "1d1efbe6-e555-4a46-ab4c-70c7c430bcb0",
   "metadata": {},
   "outputs": [
    {
     "data": {
      "text/plain": [
       "(2, 4)"
      ]
     },
     "execution_count": 7,
     "metadata": {},
     "output_type": "execute_result"
    }
   ],
   "source": [
    "b.shape"
   ]
  },
  {
   "cell_type": "markdown",
   "id": "49495fe9-6ded-4476-ac37-354f15fef411",
   "metadata": {},
   "source": [
    "**GET DATATYPE**"
   ]
  },
  {
   "cell_type": "code",
   "execution_count": 8,
   "id": "20473309-7d85-426c-b180-ac61a28c6a4e",
   "metadata": {},
   "outputs": [
    {
     "data": {
      "text/plain": [
       "dtype('int64')"
      ]
     },
     "execution_count": 8,
     "metadata": {},
     "output_type": "execute_result"
    }
   ],
   "source": [
    "a.dtype"
   ]
  },
  {
   "cell_type": "code",
   "execution_count": 9,
   "id": "de2a14a5-06f1-42a0-be30-13749703d9d7",
   "metadata": {},
   "outputs": [
    {
     "data": {
      "text/plain": [
       "dtype('int64')"
      ]
     },
     "execution_count": 9,
     "metadata": {},
     "output_type": "execute_result"
    }
   ],
   "source": [
    "b.dtype"
   ]
  },
  {
   "cell_type": "markdown",
   "id": "5e35ef76-66b0-486d-a5c7-7e927104b69e",
   "metadata": {},
   "source": [
    "**ITEM SIZE**\n"
   ]
  },
  {
   "cell_type": "code",
   "execution_count": 10,
   "id": "00d8a1c7-f92d-402a-8e87-4eeaf2a96749",
   "metadata": {},
   "outputs": [
    {
     "data": {
      "text/plain": [
       "8"
      ]
     },
     "execution_count": 10,
     "metadata": {},
     "output_type": "execute_result"
    }
   ],
   "source": [
    "#it will return the bytes for the data type of the array, for ex the data type of a is int64 so it returns as 8,if the data type is int32 then it\n",
    "#would return 4 as an answer.\n",
    "a.itemsize"
   ]
  },
  {
   "cell_type": "code",
   "execution_count": 11,
   "id": "cc51e703-ed86-49f0-a422-e779cdee5be5",
   "metadata": {},
   "outputs": [
    {
     "data": {
      "text/plain": [
       "8"
      ]
     },
     "execution_count": 11,
     "metadata": {},
     "output_type": "execute_result"
    }
   ],
   "source": [
    "b.itemsize"
   ]
  },
  {
   "cell_type": "markdown",
   "id": "b8e88a96-d69a-4327-b6a9-1721f2478026",
   "metadata": {},
   "source": [
    "**TOTAL NUMBERS OF ELEMENTS**\n"
   ]
  },
  {
   "cell_type": "code",
   "execution_count": 12,
   "id": "8a672b8c-9513-4a4a-a14f-7b2d0de7e492",
   "metadata": {},
   "outputs": [
    {
     "data": {
      "text/plain": [
       "4"
      ]
     },
     "execution_count": 12,
     "metadata": {},
     "output_type": "execute_result"
    }
   ],
   "source": [
    "a.size"
   ]
  },
  {
   "cell_type": "code",
   "execution_count": 13,
   "id": "3d62db91-2e3f-473d-86d5-d9688fb8afe0",
   "metadata": {},
   "outputs": [
    {
     "data": {
      "text/plain": [
       "8"
      ]
     },
     "execution_count": 13,
     "metadata": {},
     "output_type": "execute_result"
    }
   ],
   "source": [
    "b.size\n"
   ]
  },
  {
   "cell_type": "markdown",
   "id": "b5c8e259-7d8b-47c3-998b-7e87c1be7de3",
   "metadata": {},
   "source": [
    "**TOTAL NUMBERS OF BYTES**"
   ]
  },
  {
   "cell_type": "code",
   "execution_count": 14,
   "id": "6995b67a-11d7-4034-a0b4-5640d4856086",
   "metadata": {},
   "outputs": [
    {
     "data": {
      "text/plain": [
       "32"
      ]
     },
     "execution_count": 14,
     "metadata": {},
     "output_type": "execute_result"
    }
   ],
   "source": [
    "a.nbytes"
   ]
  },
  {
   "cell_type": "code",
   "execution_count": 15,
   "id": "d0232461-d5f1-49c1-af36-aac8d544ca8f",
   "metadata": {},
   "outputs": [
    {
     "data": {
      "text/plain": [
       "64"
      ]
     },
     "execution_count": 15,
     "metadata": {},
     "output_type": "execute_result"
    }
   ],
   "source": [
    "b.nbytes"
   ]
  },
  {
   "cell_type": "markdown",
   "id": "daa6fcea-ba38-4831-a575-498edc3e2e9a",
   "metadata": {},
   "source": [
    "# ACCESSING,CHANGING ELEMENTS ROWS AND COLUMN OF ARRAY"
   ]
  },
  {
   "cell_type": "markdown",
   "id": "46c90c92-923d-4019-9d77-757d1030c0cd",
   "metadata": {},
   "source": [
    "**WE CAN ALSO ACCESS ELEMENTS USING NEGATIVE INDEX**"
   ]
  },
  {
   "cell_type": "code",
   "execution_count": 16,
   "id": "dce83360-3f95-4714-8aae-5951737f0ef5",
   "metadata": {},
   "outputs": [
    {
     "name": "stdout",
     "output_type": "stream",
     "text": [
      "[[ 1  2  3  4  5]\n",
      " [ 6  7  8  9 10]]\n"
     ]
    }
   ],
   "source": [
    "a = np.array([[1,2,3,4,5],[6,7,8,9,10]])\n",
    "print(a)"
   ]
  },
  {
   "cell_type": "markdown",
   "id": "6ae814dc-0299-456d-bc69-26f779672668",
   "metadata": {},
   "source": [
    "**GETTING SPECIFIC ELEMENTS**"
   ]
  },
  {
   "cell_type": "code",
   "execution_count": 17,
   "id": "8e8a73d6-3219-4864-9380-111df3949483",
   "metadata": {},
   "outputs": [
    {
     "data": {
      "text/plain": [
       "np.int64(7)"
      ]
     },
     "execution_count": 17,
     "metadata": {},
     "output_type": "execute_result"
    }
   ],
   "source": [
    "#ARRAY NAME [ROW,COLUMN]\n",
    "a[1,1]"
   ]
  },
  {
   "cell_type": "markdown",
   "id": "e3379eb0-4ce0-418e-8df3-98d653a53582",
   "metadata": {},
   "source": [
    "**GETTING SPECIFIC ROWS**"
   ]
  },
  {
   "cell_type": "code",
   "execution_count": 18,
   "id": "3b89dd8f-96bb-4f1a-b33f-08e24e13deb0",
   "metadata": {},
   "outputs": [
    {
     "data": {
      "text/plain": [
       "array([1, 2, 3, 4, 5])"
      ]
     },
     "execution_count": 18,
     "metadata": {},
     "output_type": "execute_result"
    }
   ],
   "source": [
    "a[0,:]"
   ]
  },
  {
   "cell_type": "code",
   "execution_count": 19,
   "id": "ea18fb19-a0fb-4fa5-9577-3899e313028c",
   "metadata": {},
   "outputs": [
    {
     "data": {
      "text/plain": [
       "array([ 6,  7,  8,  9, 10])"
      ]
     },
     "execution_count": 19,
     "metadata": {},
     "output_type": "execute_result"
    }
   ],
   "source": [
    "a[1,:]"
   ]
  },
  {
   "cell_type": "markdown",
   "id": "c471daa1-1cce-4b9b-a8d4-f3256c8bacf7",
   "metadata": {},
   "source": [
    "**GETTING SPECIFIC COLUMN**"
   ]
  },
  {
   "cell_type": "code",
   "execution_count": 20,
   "id": "676d5491-8e2f-410c-b606-3d6cf461ab18",
   "metadata": {},
   "outputs": [
    {
     "data": {
      "text/plain": [
       "array([4, 9])"
      ]
     },
     "execution_count": 20,
     "metadata": {},
     "output_type": "execute_result"
    }
   ],
   "source": [
    "a[:,3]"
   ]
  },
  {
   "cell_type": "markdown",
   "id": "43abe66e-c234-4e0c-ae0f-cc59a3c32e04",
   "metadata": {},
   "source": [
    "**ANOTHER METHOD**"
   ]
  },
  {
   "cell_type": "code",
   "execution_count": 21,
   "id": "8adfe729-d3af-4851-a9e7-b98875369738",
   "metadata": {},
   "outputs": [
    {
     "data": {
      "text/plain": [
       "array([1, 3])"
      ]
     },
     "execution_count": 21,
     "metadata": {},
     "output_type": "execute_result"
    }
   ],
   "source": [
    "# arrayname[start_index:end_index:step_size]\n",
    "#here first zero refers to the first row and there it refers to the 1st element till the last one excluding with a step of 2\n",
    "a[0, 0:4:2]"
   ]
  },
  {
   "cell_type": "markdown",
   "id": "2d1942fb-0749-4094-a984-5a5570a72432",
   "metadata": {},
   "source": [
    "**CHANGNG ELEMENTS**"
   ]
  },
  {
   "cell_type": "code",
   "execution_count": 22,
   "id": "4b5afa4a-c07b-471c-a216-47bfd219cb12",
   "metadata": {},
   "outputs": [],
   "source": [
    "a[0,0]=100"
   ]
  },
  {
   "cell_type": "code",
   "execution_count": 23,
   "id": "aaa4095d-4748-4a9c-be79-d5d936ef5be1",
   "metadata": {},
   "outputs": [
    {
     "name": "stdout",
     "output_type": "stream",
     "text": [
      "[[100   2   3   4   5]\n",
      " [  6   7   8   9  10]]\n"
     ]
    }
   ],
   "source": [
    "print(a)"
   ]
  },
  {
   "cell_type": "code",
   "execution_count": 24,
   "id": "80270162-9b70-4cc6-a858-559dd7152686",
   "metadata": {},
   "outputs": [],
   "source": [
    "a[0,1]=200"
   ]
  },
  {
   "cell_type": "code",
   "execution_count": 25,
   "id": "2d9d2a08-02a2-4244-8d90-4149255a07ef",
   "metadata": {},
   "outputs": [
    {
     "name": "stdout",
     "output_type": "stream",
     "text": [
      "[[100 200   3   4   5]\n",
      " [  6   7   8   9  10]]\n"
     ]
    }
   ],
   "source": [
    "print(a)"
   ]
  },
  {
   "cell_type": "code",
   "execution_count": 26,
   "id": "4b81be81-a6d8-4c33-b738-90337cea7b8c",
   "metadata": {},
   "outputs": [],
   "source": [
    "a[0,2]=300"
   ]
  },
  {
   "cell_type": "code",
   "execution_count": 27,
   "id": "91549860-abcc-46da-a023-6b775420f9a3",
   "metadata": {},
   "outputs": [
    {
     "name": "stdout",
     "output_type": "stream",
     "text": [
      "[[100 200 300   4   5]\n",
      " [  6   7   8   9  10]]\n"
     ]
    }
   ],
   "source": [
    "print(a)"
   ]
  },
  {
   "cell_type": "markdown",
   "id": "154c0fd6-5a6a-4604-b0ea-4fc3edefd8b7",
   "metadata": {},
   "source": [
    "# INITILIZING DIFFERENT ARRAYS"
   ]
  },
  {
   "cell_type": "code",
   "execution_count": 28,
   "id": "d3e10ddb-12ff-4c07-b2fd-9c43a4a95624",
   "metadata": {},
   "outputs": [
    {
     "data": {
      "text/plain": [
       "array([0., 0., 0., 0., 0.])"
      ]
     },
     "execution_count": 28,
     "metadata": {},
     "output_type": "execute_result"
    }
   ],
   "source": [
    "# all zeros matrix\n",
    "np.zeros(5)"
   ]
  },
  {
   "cell_type": "code",
   "execution_count": 29,
   "id": "5b793c66-f46b-49a7-803b-93d762e721d8",
   "metadata": {},
   "outputs": [
    {
     "data": {
      "text/plain": [
       "array([[0., 0.],\n",
       "       [0., 0.],\n",
       "       [0., 0.],\n",
       "       [0., 0.],\n",
       "       [0., 0.]])"
      ]
     },
     "execution_count": 29,
     "metadata": {},
     "output_type": "execute_result"
    }
   ],
   "source": [
    "np.zeros((5,2))"
   ]
  },
  {
   "cell_type": "code",
   "execution_count": 30,
   "id": "f727cb93-c01e-465f-a5de-540fb79e47bd",
   "metadata": {},
   "outputs": [
    {
     "data": {
      "text/plain": [
       "array([[1, 1],\n",
       "       [1, 1],\n",
       "       [1, 1]], dtype=int32)"
      ]
     },
     "execution_count": 30,
     "metadata": {},
     "output_type": "execute_result"
    }
   ],
   "source": [
    "# all 1s matrix of datatype of int32\n",
    "np.ones((3,2),dtype='int32')"
   ]
  },
  {
   "cell_type": "code",
   "execution_count": 31,
   "id": "a151b471-1eb3-4286-bd82-cc67ca174cc7",
   "metadata": {},
   "outputs": [
    {
     "data": {
      "text/plain": [
       "array([[69, 69, 69],\n",
       "       [69, 69, 69]])"
      ]
     },
     "execution_count": 31,
     "metadata": {},
     "output_type": "execute_result"
    }
   ],
   "source": [
    "# any other numbers within the array it takes two values one is size and the other is value,this also have datatype can be added if want.\n",
    "np.full((2,3),69)"
   ]
  },
  {
   "cell_type": "code",
   "execution_count": 32,
   "id": "29227e59-c29e-493c-b7d9-8a4dcbfa3ce5",
   "metadata": {},
   "outputs": [
    {
     "data": {
      "text/plain": [
       "array([[3, 3, 3, 3, 3],\n",
       "       [3, 3, 3, 3, 3]])"
      ]
     },
     "execution_count": 32,
     "metadata": {},
     "output_type": "execute_result"
    }
   ],
   "source": [
    "# theres is a full_like method which takes the size of the last used array or any array created before we just need to mention the value.\n",
    "np.full_like((a),3)"
   ]
  },
  {
   "cell_type": "code",
   "execution_count": 33,
   "id": "74c2b9c8-6a38-4a43-b7d0-f8b7f3482557",
   "metadata": {},
   "outputs": [
    {
     "data": {
      "text/plain": [
       "array([[0.91567065, 0.27548388, 0.71311863, 0.79694362],\n",
       "       [0.09553364, 0.22011861, 0.36176124, 0.81455414]])"
      ]
     },
     "execution_count": 33,
     "metadata": {},
     "output_type": "execute_result"
    }
   ],
   "source": [
    "# creating with random values.\n",
    "np.random.rand(2,4)"
   ]
  },
  {
   "cell_type": "code",
   "execution_count": 34,
   "id": "dda9c1b3-b866-4e59-963f-cd7ecadb57a3",
   "metadata": {},
   "outputs": [
    {
     "data": {
      "text/plain": [
       "array([[0.40967798, 0.81308314, 0.67977081, 0.66757497, 0.70865645],\n",
       "       [0.62283239, 0.30121439, 0.62538354, 0.40801365, 0.15231979]])"
      ]
     },
     "execution_count": 34,
     "metadata": {},
     "output_type": "execute_result"
    }
   ],
   "source": [
    "# another method called random_sample which is like full_like method which takes the size of used array and puts random values in it.\n",
    "np.random.random_sample(a.shape)"
   ]
  },
  {
   "cell_type": "code",
   "execution_count": 35,
   "id": "fef53c2a-a5a4-430d-a01a-8515634fbbfa",
   "metadata": {},
   "outputs": [
    {
     "data": {
      "text/plain": [
       "array([[1., 0., 0., 0., 0.],\n",
       "       [0., 1., 0., 0., 0.],\n",
       "       [0., 0., 1., 0., 0.],\n",
       "       [0., 0., 0., 1., 0.],\n",
       "       [0., 0., 0., 0., 1.]])"
      ]
     },
     "execution_count": 35,
     "metadata": {},
     "output_type": "execute_result"
    }
   ],
   "source": [
    "# identity matrix can also be created.\n",
    "np.identity(5)"
   ]
  },
  {
   "cell_type": "code",
   "execution_count": 36,
   "id": "6c28af7c-4814-4872-ac32-cf592580fb8f",
   "metadata": {},
   "outputs": [
    {
     "data": {
      "text/plain": [
       "array([[1., 0., 0.],\n",
       "       [0., 1., 0.],\n",
       "       [0., 0., 1.]])"
      ]
     },
     "execution_count": 36,
     "metadata": {},
     "output_type": "execute_result"
    }
   ],
   "source": [
    "np.identity(3)"
   ]
  },
  {
   "cell_type": "code",
   "execution_count": 37,
   "id": "a48049f4-f394-4a4f-bda9-8422dbdc0817",
   "metadata": {},
   "outputs": [
    {
     "name": "stdout",
     "output_type": "stream",
     "text": [
      "[[1 2 3 4 5]\n",
      " [1 2 3 4 5]\n",
      " [1 2 3 4 5]\n",
      " [1 2 3 4 5]]\n"
     ]
    }
   ],
   "source": [
    "# we can also repeat an array.\n",
    "arr= np.array([[1,2,3,4,5]])\n",
    "r1= np.repeat(arr,4 ,axis=0)\n",
    "print(r1)"
   ]
  },
  {
   "cell_type": "markdown",
   "id": "c61a64f9-45fb-42f9-9546-b5d5e0327edb",
   "metadata": {},
   "source": [
    "# creating a matrix without typing manually "
   ]
  },
  {
   "cell_type": "code",
   "execution_count": 38,
   "id": "ba0f1526-0455-43ca-8b85-7973d10639af",
   "metadata": {
    "scrolled": true
   },
   "outputs": [
    {
     "name": "stdout",
     "output_type": "stream",
     "text": [
      "[[1. 1. 1. 1. 1.]\n",
      " [1. 1. 1. 1. 1.]\n",
      " [1. 1. 1. 1. 1.]\n",
      " [1. 1. 1. 1. 1.]\n",
      " [1. 1. 1. 1. 1.]]\n",
      "[[0. 0. 0.]\n",
      " [0. 0. 0.]\n",
      " [0. 0. 0.]]\n",
      "[[0. 0. 0.]\n",
      " [0. 9. 0.]\n",
      " [0. 0. 0.]]\n",
      "[[1. 1. 1. 1. 1.]\n",
      " [1. 0. 0. 0. 1.]\n",
      " [1. 0. 9. 0. 1.]\n",
      " [1. 0. 0. 0. 1.]\n",
      " [1. 1. 1. 1. 1.]]\n"
     ]
    }
   ],
   "source": [
    "output= np.ones((5,5))\n",
    "print(output)\n",
    "\n",
    "z= np.zeros((3,3))\n",
    "print(z)\n",
    "\n",
    "z[1,1]=9\n",
    "print(z)\n",
    "\n",
    "#the 1:-1 can also be written as 1:4 which means that it starts form 1st elemnet and then till the 4th element which is the 5th row a matrix will be inserted.\n",
    "output[1:-1 , 1:-1]=z\n",
    "print(output)"
   ]
  },
  {
   "cell_type": "code",
   "execution_count": null,
   "id": "3192309e-d658-4b95-965e-85ba028e4528",
   "metadata": {},
   "outputs": [],
   "source": []
  }
 ],
 "metadata": {
  "kernelspec": {
   "display_name": "Python 3 (ipykernel)",
   "language": "python",
   "name": "python3"
  },
  "language_info": {
   "codemirror_mode": {
    "name": "ipython",
    "version": 3
   },
   "file_extension": ".py",
   "mimetype": "text/x-python",
   "name": "python",
   "nbconvert_exporter": "python",
   "pygments_lexer": "ipython3",
   "version": "3.13.5"
  }
 },
 "nbformat": 4,
 "nbformat_minor": 5
}
