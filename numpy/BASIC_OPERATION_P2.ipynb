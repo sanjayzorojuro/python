{
 "cells": [
  {
   "cell_type": "markdown",
   "id": "428adedc-c99e-4a50-9a0b-7412776589d6",
   "metadata": {},
   "source": [
    "# BASIC NUMPY OPERATION"
   ]
  },
  {
   "cell_type": "code",
   "execution_count": 1,
   "id": "0ebf9791-b538-4d95-a9bb-64b38661fe76",
   "metadata": {},
   "outputs": [],
   "source": [
    "import numpy as np"
   ]
  },
  {
   "cell_type": "code",
   "execution_count": 2,
   "id": "253ec609-1c58-42d4-aac2-53d4fa043452",
   "metadata": {},
   "outputs": [
    {
     "name": "stdout",
     "output_type": "stream",
     "text": [
      "[1 2 3 4 5]\n"
     ]
    }
   ],
   "source": [
    "a=np.array([1,2,3,4,5])\n",
    "print(a)"
   ]
  },
  {
   "cell_type": "code",
   "execution_count": 3,
   "id": "3c094b9c-76af-423a-92fe-824726b47872",
   "metadata": {},
   "outputs": [
    {
     "name": "stdout",
     "output_type": "stream",
     "text": [
      "[[ 1  2  3  4  5]\n",
      " [ 6  7  8  9 10]]\n"
     ]
    }
   ],
   "source": [
    "b=np.array([[1,2,3,4,5],[6,7,8,9,10]])\n",
    "print(b)"
   ]
  },
  {
   "cell_type": "code",
   "execution_count": 8,
   "id": "6d14877f-467c-457e-af2b-d719585d41ab",
   "metadata": {},
   "outputs": [
    {
     "name": "stdout",
     "output_type": "stream",
     "text": [
      "[100   2   3   4   5]\n"
     ]
    }
   ],
   "source": [
    "# so here we can see that while we are trying to copy the value of a to c and when we change the value of c the  a also gets changed.\n",
    "# to prevent this we use the copy method.\n",
    "c = a\n",
    "c[0]=100\n",
    "print(a)"
   ]
  },
  {
   "cell_type": "code",
   "execution_count": 12,
   "id": "9f17bfb1-623a-4bf3-86d2-155311f857ee",
   "metadata": {},
   "outputs": [
    {
     "name": "stdout",
     "output_type": "stream",
     "text": [
      "[100   2   3   4   5]\n",
      "[100   2 200   4   5]\n"
     ]
    }
   ],
   "source": [
    "# so when we use the copy method the original value is not changed it copys and then the change is made.\n",
    "c = a.copy()\n",
    "c[2]=200\n",
    "print(a)\n",
    "print(c)"
   ]
  },
  {
   "cell_type": "code",
   "execution_count": null,
   "id": "87ded337-f9e9-47b8-89e2-636707439a02",
   "metadata": {},
   "outputs": [],
   "source": []
  },
  {
   "cell_type": "code",
   "execution_count": null,
   "id": "eb6304e5-26a5-4b7c-bb83-8c2600a03666",
   "metadata": {},
   "outputs": [],
   "source": [
    "\n"
   ]
  }
 ],
 "metadata": {
  "kernelspec": {
   "display_name": "Python 3 (ipykernel)",
   "language": "python",
   "name": "python3"
  },
  "language_info": {
   "codemirror_mode": {
    "name": "ipython",
    "version": 3
   },
   "file_extension": ".py",
   "mimetype": "text/x-python",
   "name": "python",
   "nbconvert_exporter": "python",
   "pygments_lexer": "ipython3",
   "version": "3.13.5"
  }
 },
 "nbformat": 4,
 "nbformat_minor": 5
}
